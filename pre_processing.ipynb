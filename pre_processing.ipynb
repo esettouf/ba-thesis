{
  "cells": [
    {
      "cell_type": "markdown",
      "source": [
        "# Preprocessing the Data\n",
        "Part of BA Thesis by Enis Settouf\n",
        "<br>\n",
        "[Source:](https://de.openlegaldata.io/pages/api/) Data used by OpenLegalData.io:\n",
        "DSource ata used by OpenLegalData.io:\n"
      ],
      "metadata": {
        "id": "lHKLT7wE9fgN"
      }
    },
    {
      "cell_type": "markdown",
      "source": [
        "Please set the Runtime-shape to high RAM (Runtime - change runtime type)\n",
        "\n",
        "[Reference](https://colab.research.google.com/notebooks/gpu.ipynb)"
      ],
      "metadata": {
        "id": "FhzaM_Z1_ZHM"
      }
    },
    {
      "cell_type": "markdown",
      "source": [
        "# 1. Preparing Runtime"
      ],
      "metadata": {
        "id": "k0LxlGrO_NJO"
      }
    },
    {
      "cell_type": "markdown",
      "source": [
        "Installing libraries:"
      ],
      "metadata": {
        "id": "WuORhF6S96FC"
      }
    },
    {
      "cell_type": "code",
      "execution_count": null,
      "metadata": {
        "colab": {
          "base_uri": "https://localhost:8080/"
        },
        "id": "vGVEk3uhRRA3",
        "outputId": "0d5161f5-3508-4706-c73f-07a742090598"
      },
      "outputs": [
        {
          "output_type": "stream",
          "name": "stdout",
          "text": [
            "Looking in indexes: https://pypi.org/simple, https://us-python.pkg.dev/colab-wheels/public/simple/\n",
            "Collecting html2text\n",
            "  Downloading html2text-2020.1.16-py3-none-any.whl (32 kB)\n",
            "Installing collected packages: html2text\n",
            "Successfully installed html2text-2020.1.16\n",
            "Looking in indexes: https://pypi.org/simple, https://us-python.pkg.dev/colab-wheels/public/simple/\n",
            "Requirement already satisfied: nltk in /usr/local/lib/python3.7/dist-packages (3.7)\n",
            "Requirement already satisfied: regex>=2021.8.3 in /usr/local/lib/python3.7/dist-packages (from nltk) (2022.6.2)\n",
            "Requirement already satisfied: tqdm in /usr/local/lib/python3.7/dist-packages (from nltk) (4.64.0)\n",
            "Requirement already satisfied: click in /usr/local/lib/python3.7/dist-packages (from nltk) (7.1.2)\n",
            "Requirement already satisfied: joblib in /usr/local/lib/python3.7/dist-packages (from nltk) (1.1.0)\n"
          ]
        }
      ],
      "source": [
        "! pip install html2text\n",
        "! pip install nltk"
      ]
    },
    {
      "cell_type": "markdown",
      "source": [
        "Mounting Google Drive:"
      ],
      "metadata": {
        "id": "XBktl_Qf970A"
      }
    },
    {
      "cell_type": "code",
      "execution_count": null,
      "metadata": {
        "colab": {
          "base_uri": "https://localhost:8080/"
        },
        "id": "fUwNQ9Y1-Ib4",
        "outputId": "a7b00802-9c4e-4e65-d3ca-a4966ada2a26"
      },
      "outputs": [
        {
          "output_type": "stream",
          "name": "stdout",
          "text": [
            "Mounted at /content/drive\n"
          ]
        }
      ],
      "source": [
        "from google.colab import drive\n",
        "drive.mount('/content/drive')"
      ]
    },
    {
      "cell_type": "code",
      "execution_count": null,
      "metadata": {
        "id": "jlwvLI8MwMK-"
      },
      "outputs": [],
      "source": [
        "# -*- coding: iso-8859-1 -*-\n",
        "import json\n",
        "from html2text import html2text\n",
        "from tqdm.auto import tqdm\n",
        "import time\n",
        "from google.colab import files\n",
        "import re\n",
        "from sklearn.model_selection import train_test_split"
      ]
    },
    {
      "cell_type": "markdown",
      "source": [
        "Opening files and splitting for reduction:"
      ],
      "metadata": {
        "id": "89dt-B0u9_Mp"
      }
    },
    {
      "cell_type": "code",
      "execution_count": null,
      "metadata": {
        "colab": {
          "base_uri": "https://localhost:8080/"
        },
        "id": "sZQUo_A58mXm",
        "outputId": "77b85e61-7a5a-4153-d1eb-846d7aea27f9"
      },
      "outputs": [
        {
          "output_type": "stream",
          "name": "stdout",
          "text": [
            "--- Process started ---\n",
            "259017\n",
            "2590\n"
          ]
        }
      ],
      "source": [
        "print(\"--- Process started ---\")\n",
        "start_time = time.time()\n",
        "\n",
        "with open('/content/drive/MyDrive/ba-thesis/data-pre-processing/data/cases.jsonl', 'r') as jsonl_file:\n",
        "    json_list = list(jsonl_file)\n",
        "\n",
        "with open('/content/drive/MyDrive/ba-thesis/data-pre-processing/data/laws.jsonl', 'r') as jsonl_file:\n",
        "    json_list.extend(list(jsonl_file))\n",
        "\n",
        "jsonl_file.close()\n",
        "\n",
        "# Shuffle list after adding laws to cases list\n",
        "import random\n",
        "random.shuffle(json_list)\n",
        "\n",
        "# Splitting the list to make a smaller set for faster training\n",
        "shrink_factor = 0.01\n",
        "print(len(json_list))\n",
        "json_list = json_list[0:int(round((len(json_list)*shrink_factor),0))]\n",
        "print(len(json_list))\n",
        "\n",
        "# Split json list into train and test sets\n",
        "json_train, json_test = train_test_split(json_list, test_size=0.2, shuffle=True, random_state=2)\n",
        "\n",
        "id = 0\n",
        "file_count = 0"
      ]
    },
    {
      "cell_type": "markdown",
      "metadata": {
        "id": "DdOLZkO5_n__"
      },
      "source": [
        "## 2. Download and initialize spacy package"
      ]
    },
    {
      "cell_type": "markdown",
      "metadata": {
        "id": "eBuG8hA_dsAb"
      },
      "source": [
        "Spacy is initialized and the German package is downloaded."
      ]
    },
    {
      "cell_type": "code",
      "execution_count": null,
      "metadata": {
        "colab": {
          "base_uri": "https://localhost:8080/"
        },
        "id": "vO0qsw9WBWHz",
        "outputId": "699e5996-301a-4fe8-d107-d4a902e96d51"
      },
      "outputs": [
        {
          "output_type": "stream",
          "name": "stdout",
          "text": [
            "\u001b[38;5;2m✔ Download and installation successful\u001b[0m\n",
            "You can now load the package via spacy.load('de_core_news_sm')\n"
          ]
        }
      ],
      "source": [
        "from __future__ import unicode_literals, print_function\n",
        "from spacy.lang.de import German\n",
        "\n",
        "import spacy\n",
        "spacy.cli.download(\"de_core_news_sm\")\n",
        "\n",
        "nlp = German()\n",
        "nlp.add_pipe('sentencizer')\n",
        "nlp.max_length = 6000000 # instead of 1,000,000; max length was about 5,000,000"
      ]
    },
    {
      "cell_type": "markdown",
      "metadata": {
        "id": "540o_n5ddNtr"
      },
      "source": [
        "Special legal acronyms and abbreviations are specified. Spacy will now identify them as nouns and won't end the sentence after the puncuation mark. "
      ]
    },
    {
      "cell_type": "code",
      "execution_count": null,
      "metadata": {
        "id": "TQmNiO8mL9_0"
      },
      "outputs": [],
      "source": [
        "# Add special case rule\n",
        "from spacy.symbols import ORTH\n",
        "\n",
        "special_cases = [\n",
        "    'Rdnr.', 'm.w.N.', 'Tz.', 'S.p.A.',\n",
        "    'A.', 'a.', 'AA', 'AbgG', 'ABl.', 'abl.', 'Abs.', 'abs.', 'Abschn.', 'Abse.', 'AbzG', 'abzgl.', 'AcP', 'a.D.', 'AEG', 'AEntG', 'AFG', 'AFRG', 'AG', 'AGB', 'AGBG', 'AGL', 'ähnl.', 'AK(-Bearb.)', 'AktG', 'AKW', 'allg.', 'allg. A.', 'allgem.', 'allgem. A.', 'ALR', 'Alt.', 'AmtlAnz', 'AmtsBl.', 'AN', 'and.', 'angef.', 'Anl.', 'Anm.', 'AO', 'AOK', 'AP', 'ArbG', 'ArbGG', 'ArbPlSchG', 'ArbSchG', 'ArbZG', 'ArbZRG', 'ArchBürgR', 'ARD', 'arg. e(x)', 'ARGE', 'ARSP', 'Art.', 'AStA', 'AT', 'AtomG', 'AU', 'aufgeh.', 'Aufl.', 'AÜG', 'ausf.', 'AusfG', 'AusfVO', 'AuslG', 'Ausn.', 'AVG', 'AVO', 'Azubi', 'B', 'BAG', 'BAGE', 'BAnz.', 'BArbBl.', 'BauGB', 'BayJMBl.', 'BayObLG', 'BayObLGSt', 'BayObLGZ', 'BayRPfl', 'BBeamtenG', \n",
        "    'BBesG', 'BB', 'BBG', 'BBiG', 'Bd.', 'Bde.', 'Bdg.', 'BDSG', 'BDZV', 'BeamtenRRG', 'BeamtVG', 'Bearb.', 'begr.', 'Beil.', 'Bek.', 'ber.', 'BerGer', 'BErzGG', 'bes.', 'BeschFG', 'Beschl.', 'best.', 'bestr.', 'Betr.', 'betr.', 'BetrAVG', 'BetrVG', 'BeurkG', 'Bf.', 'BfA', 'BfB', 'BFH', 'BGB', 'BGBl.', 'BGH', 'BGH NJW', 'BGHSt', 'BGHZ', 'BGSG', 'BImSchG', 'BinnSchG', 'BiRiLiG', 'BJagdG', 'BKA', 'Bl.', 'BMAuS', 'BMELF', 'BMF', 'BMI', 'BMin', 'BMJ', 'BMU', 'BMW', 'BNotO', 'BO', 'BPräs.', 'BR', 'BRAGO', 'BRAO', 'BRD', 'BReg.', 'BRep', 'BRRG', 'BSeuchenG', 'BSG', 'BSGE', 'BSHG', 'BSozHilfeG', 'Bsp.', 'Bst.', 'BStBl.', 'BT', 'BT-Drucks.', 'BtG', 'BtMG', 'BtMVV', 'BUrlG', 'BVerfG', 'BVerfGE', 'BVerfGG', 'BVerwG', 'BVerwGE', 'BVwZG', 'BWG', 'BWO', 'BZRG', 'bzgl.', 'bzw.', 'CCC', 'CDU', 'CIC', 'CR', 'CSU', 'D', 'DAR', 'dar.', 'DB', 'DDR', 'DEFA', 'ders.', 'DGB', 'dies.', 'DIHT', 'DIN', 'Diss.', 'div.', 'DJT', 'DJZ', 'DKP', 'DM', 'DNotZ', 'DO', 'DÖV', 'DR', 'Dr.', 'Dr. h.c.', 'Dr. med.', 'Dr. oec.', 'Dr. oec. publ.', 'Dr. pharm.', 'Dr. phil.', 'Dr. rer. nat.', 'Dr. rer. oec.', 'Dr. rer. pol.', 'Dr. theol.', 'DRiG', 'DRiZ', 'Drucks.', 'DStR', 'dto.', 'DtZ', 'DV', 'DVBl.', 'DVO', 'E', 'EALR', 'ebd.', 'EBRG', 'EBV', 'EDV', 'EEF', 'EFZG', 'EG', 'eG', 'EGBGB', 'EGHGB', 'EGKStV', 'EGL', 'eGmbH', 'eGmuH', 'EGStGB', 'EGV', 'EheG', 'EheSchlRG', 'EinfG', 'eingef.', 'EinigV', 'Einl.', 'einschl.', 'EMRK', 'ErbbauRVO', 'ErbStG', 'Erg.', 'erk. Sen.', 'Erl.', 'ESJ', 'EStG', 'etc.', 'EuGH', 'EuGHE', 'Euratom', 'EuratomGV', 'EUR', 'Euro EG', 'EUV', 'EuZW', 'EV', 'EVertr.', 'evtl.', 'EWGV', 'EWIV', 'EZB', 'EzSt', 'F.', 'f.', 'FA', 'Fa.', 'FamRZ', 'FAO', 'FDP', 'Festschr.', 'ff.', 'FG', 'FGG', 'FGO', 'FH', 'FHSR', 'FL', 'fl', 'FN', 'Fn.', 'form.', 'FOSR', 'fr.', 'FS', 'FSK', 'FStrG', 'FU', 'FVG', 'Fz.', 'G', 'GA', 'GastG', 'GATT', 'GBl.', 'GBO', 'GbR', 'geänd.', 'GebrMG', 'Gedschr.', 'geg.', 'gem.', 'GemSOBG', 'GenG', 'GenTG', 'Ges.', 'GeschmMG', 'GeschO', 'GeschOBR', 'GeschOBT', 'GewO', 'GewStG', 'GG', 'gg.', 'ggf.', 'GGO', 'ggü.', 'ggüb.', 'GjSM', 'GK', 'GKG', 'Gl.', 'GmbH', 'GmbHG', 'GMBl.', 'GmS', 'GO', 'GO BR', 'GO BReg', 'GO BT', 'Grds.', 'grdsl.', 'GRG', 'GrS', 'GS', 'GÜG', 'GüKG', 'GUS', 'GVBl.', 'GVG', 'GV NW',\n",
        "    'GVOBl.', 'GWB', 'HaftPflG', 'HAG', 'Halbs.', 'HandwO', 'HausratsVO', 'HaustürWG', 'h.c.', 'Hdlg.', 'Hess.', 'HESt', 'heut.', 'heut. Rspr.', 'HGB', 'hins.', 'HRefG', 'HRG', 'HRR', 'Hrsg.', 'HWiG', 'i.A.', 'IAEA', 'ib.', 'ibd.', 'ibid.', 'IHK', 'i.K.', 'incl.', 'inkl.', 'inkl. MwSt./ Mwst.', 'insb.', 'insbes.', 'InsO', 'Internet', 'i.O.', 'IPR', 'IQ', 'i.R.', 'IWF', 'i.W.', 'i.Wes.', 'i. Zw.', 'JA', 'Jahrb.', 'JArbSchG', 'JGG', 'Jh.', 'JherJb', 'JMBl.', 'JMBl. NW', 'JP', 'JPA', 'JR', 'JSchG', 'JurA', 'Jura', 'JurJB', 'JuS', 'JVA', 'JW', 'JZ', 'Kfz', 'kzfr.', 'KG', 'KJHG', 'KO', 'KostO', 'KP', 'KPD', 'KR', 'Kripo', 'KrWG', 'KSchG', 'KStG', 'KTS', 'KunstUrhG', 'KV', 'KWG', 'KWKG', 'LadSchlG', 'LAG', 'LFZG', 'LG', 'lgfr.', 'Lit.', 'LK', 'LK(-Bearb.)', 'LKA', 'LM', 'LMBG', 'LMin', 'LohnfortzahlungsG', 'LPresseG', 'LSA', 'LSG', 'LStVG', 'lt.', 'LuftVG', 'LuftVO', 'LuftVZO', 'LVA', 'LVerfG', 'LVerfGE', 'LVerfGG', 'LWahlG', 'LZ', 'LZG', 'm. Änd.', 'MarkenG', 'MABl.', 'mat.', 'mbH', 'MdB', 'MdL', 'MDR', 'ME', 'm.E.', 'MedR', 'MEPolG', 'MfOR', 'MfS', 'mgl.', 'Mglkt.', 'MHG', 'MinBl.', 'MitbestG', 'Mod.', 'mögl.', 'Mot.', 'MRK', 'MRRG', 'MS', 'MschrKrim', 'MüKo(-Bearb.)', 'MünchKomm(-Bearb.)', 'MuSchG', 'm.zust.Anm.', 'NachhBG', 'Nachw.', 'Nachw. b.', 'NachwG', 'NATO', 'Nds.', 'NdsRpfl', 'Neuf.', 'neugef.', 'NJ', 'NJW', 'NJW-RR', 'Nr.', 'NRW', 'NSDAP', 'NStE', 'NStZ', 'NW', 'NZA', 'NZV', 'NZVwR', 'o.', 'OAS', 'OAE', 'OAU', 'OB', 'OBM', 'od.', 'OECD', 'OER', 'öff.', 'OGH', 'OGHSt', 'OGHZ', 'OHG', 'ÖJZ', 'OLG', 'OLGSt', 'OLGZ', 'OPEC', 'OrgKG', 'OVG', 'OWiG', 'OWVO', 'PAG', 'PartG', 'PartGG', 'PaßG', 'PatG', 'PBefG', 'PflegeVG', 'PflVersG', 'PflVG', 'PH', 'PIN', 'PolG', 'PolVO', 'Postf.', 'PostG', 'pp.', 'PresseG', 'PreußOVG', 'ProstG', 'PrStGB', 'ProdHaftG', 'ProdSG', 'Prof.', 'Prot.', 'PrOVG', 'PStG', 'PrStGB', 'PublKG', 'q.e.d.', 'RA', 'RabelsZ', 'RAG', 'RAin', 'RBerG', 'RdErl.', 'Rdnr.', 'RdSchr.', 'rel.', 'RF', 'RG', 'RGBl.', 'RGRK', 'RGSt', 'RGZ', 'Rili', 'RIW', 'RL', 'RPflG', 'RRG', 'RsprEinhG', 'RStGB', 'RuStAG', 'RV', 'RVO', 'RW', 'rw', 'S.', 's.', 'SchE', 'SchG', 'SchlHA', 'SchlHOLG', 'SCE', 'ScheckG', 'SchiffsRG', 'Sch-Sch(-Bearb.)', 'Schr.', 'SchwarbG', 'SchwbG', 'SchwKG', 'SchwZStr', 'scil.', 'SE', 'SED', 'SeemG', 'Sen.', 'SeuffA', 'SG', 'SGB', 'SGG', 'SHG', 'SiG', 'SiGS', 'SiN', 'sinngem.', 'SiÜ', 'SiZess.', 'SJZ', 'SK(-Bearb.)', 's.o.', 'sog.', 'SoldG', 'Sonderbeil.', 'SPD', 'SprAuG', 'SpuRt', 'SS', 'StA', 'StaatsGH', 'StaatsGHG', 'StÄG', 'stG', 'StGB', 'StHG', 'Stpfl.', 'StPO', 'str.', 'StrÄndG', 'StrG', 'StrRG', 'StrVert', 'StrWG', 'stud. iur.', 'StVG', 'StVO', 'StVollstrO', 'StVollzÄndG', 'StVollzG', 'StVZO', 's.u.', 'SubvG', 'SV', 'SVG', 'TA', 'TA-Lärm', 'TA-Luft', 'TAN', 'TB', 'TdL', 'teilw.', 'TH', 'Thür.', 'TKG', 'TO. A', 'TO. B', 'TPG', 'TRG', 'TRIPS', 'TV', 'TVG', 'tw.', 'Tz.', 'TzWrG', 'u.', 'UdSSR', 'UmstG', 'umstr.', 'UmweltHG', 'UmwG', 'UmwStG', 'UN', 'unmgl.', 'Unmglkt.', 'unmögl.', 'UNO', \n",
        "    'UrheberRG', 'UrhG', 'USA', 'UStG', 'usw.', 'UVEG', 'UWG', 'UZwG', 'v.', 'VA', 'VAG', 'VAHRG', 'Var.', 'VerbrKrG', 'VereinsG', 'VerfGH', 'VerfGHG', 'VerfSchG', 'VermBG', 'VermG', 'VerschG', 'VersG', 'VersR', 'VG', 'VGH', 'vgl.', 'Vgl.', 'VHTr', 'VO(en)', \n",
        "    'VOB', 'VOBl.', 'VOR', 'Vor.', 'VP', 'VRS', 'VS', 'vs', 'VuR', 'VVaG', 'VVG', 'VwGO', 'VwKostG', 'VwVfG', 'VwVG', 'VwZG', 'WA', 'WaffG', 'WahlO', 'Warn.', 'WaStrG', 'WE', 'WEG', 'weg.', 'WEU', 'WG', 'WGO-MfOR', 'wg.', 'WHG', 'WHO', 'WiKG', 'WiRO', 'WiStG', 'wistra', 'WM', 'WoBauG', 'WpHG', 'WPM', 'WRV', 'WS', 'WStG', 'WTO', 'WV', 'w.z.b.w.', 'WZG', 'ZAkDR', 'ZDG', 'ZEuP', 'ZG', 'ZGB', 'ZGR', 'z. Hd.', 'ZHR', 'Ziff.', 'ZIP', 'ZPO', 'ZRP', 'ZS', 'ZSEG', 'ZStW', 'zust.', 'zust.Anm.', 'ZustVO', 'zw.', 'ZVG', 'ZVS', 'zzgl.', 'ZZP', 'a.A.', 'aA', 'abs. h.A.', 'abs. hA', 'a.E.', 'aE', 'a.F.', 'aF', 'a.l.i.c.', 'alic', 'bish. Rspr.', 'bisher. Rspr.', 'c.i.c.', 'cic', 'c.s.q.n.', 'csqn', 'Ct.', 'Ct', 'd.h.', 'dh', 'Dr. iur.', 'Dr. jur.', 'E.G.', 'EG', 'EGmbH', 'EGmuH', '', 'E.U.', 'EU', 'e.V.', 'eV', 'E.W.G.', 'EWG', 'FBA', 'FbA', 'fr. Rspr.', 'frRspr', 'ganz h.A.', 'ganz hA', 'G.o.A.', 'GoA', 'h.A.', 'hA', 'h.L.', 'hL', 'h.M.', 'hM', 'h.Rspr.', 'hRspr', 'Hs.', 'Hs', 'i.d.F.', 'idF', 'i.d.S.', 'idS', 'i.e.', 'ie', 'i.H.d.', 'iHd', 'i.H.v.', 'iHv', 'i.R.d.', 'iRd', 'i.S.d.', 'iSd', 'i.S.v.', 'iSv', 'i.V.', 'iV', 'i.w.S.', 'iwS', 'KGaA', 'KG a.A.', 'Lb.', 'Lb', 'LKW', 'Lkw', 'M.A.', 'MA', 'm.a.W.', 'maW', 'Mio.', 'Mio', 'M.M.', 'MM', 'm.w.N.', 'mwN', 'm.W.v.', 'mWv', 'n.F.', 'nF', 'o.Ä.', 'oÄ', 'o.g.', 'og', 'p.F.V.', 'pFv', 'PKW', 'Pkw', 'ppA.', 'ppa.', 'p.V.', 'pV', 'Rdn.', 'Rdn', 'RN', 'Rn.', 'Rn', 'Rspr.', 'Rspr', 'Rz.', 'Rz', 's.a.', 'sa', 'Sch/Sch(-Bearb.)', '', \n",
        "    'st. Rspr.', 'stRspr', 'u.a.', 'ua', 'u.U.', 'uU', 'V.', 'V', 'W.G.G.', 'WGG', 'z.B.', 'zB', 'z.T.', 'zT', 'z.Z.', 'zZ', 'a.a.O.', 'aaO', 'abs. h.M.', 'abs. hM', 'c.p.c.', 'cpc', 'ganz h.M.', 'ganz hM', 'h.Lit.', 'hLit', 'HS.', 'HS', 'i.d.R.', 'idR', 'i.e.S.', 'ieS', 'i.S.', 'iS', 'i.ü.', 'iü', 'm.N.', 'mN', 'MwSt.', 'Mwst.', 'p.V.V.', 'pVV', 'u.a.m.', 'uam', 'i.E.', 'iE', 'i.S.e.', 'iSe', 'i.V.m.', 'iVm'\n",
        "]\n",
        "\n",
        "for case in special_cases:\n",
        "    special_case = [{ORTH: case}]\n",
        "    nlp.tokenizer.add_special_case(case, special_case)"
      ]
    },
    {
      "cell_type": "markdown",
      "metadata": {
        "id": "SutmKjip5Npv"
      },
      "source": [
        "# 3. Process texts and save in files \n",
        "\n",
        "Two seperate cells because of RAM issues"
      ]
    },
    {
      "cell_type": "markdown",
      "metadata": {
        "id": "qdOdv0_euLzG"
      },
      "source": [
        "2.1 Validation Set"
      ]
    },
    {
      "cell_type": "code",
      "execution_count": null,
      "metadata": {
        "colab": {
          "base_uri": "https://localhost:8080/",
          "height": 67,
          "referenced_widgets": [
            "34bfd967106e440aa46ed78388256e69",
            "86bea6d3bb6445b69659b8a00805fad3",
            "6df0c0f30bcc4f84a19a0e246bdf345d",
            "5323aaa79d25476f86ad7fe917356677",
            "366ec369578e4ad3a55ccaff7c7cf565",
            "9149cac294894145adb4706cb3d383f2",
            "260b662b0a1441b287cedb16102d6992",
            "60edd006b343437c81bde5250264bdac",
            "cff95efade714c81b7e6b71bae1b0332",
            "0939ced048ae485d9137aa33d841aa37",
            "3b3a435fa34042a8a10aded8fcda86be"
          ]
        },
        "id": "0NWx2UTxzU_e",
        "outputId": "b0ebbdbe-c720-4379-b1c1-4c394d03d4bd"
      },
      "outputs": [
        {
          "output_type": "display_data",
          "data": {
            "text/plain": [
              "  0%|          | 0/518 [00:00<?, ?it/s]"
            ],
            "application/vnd.jupyter.widget-view+json": {
              "version_major": 2,
              "version_minor": 0,
              "model_id": "34bfd967106e440aa46ed78388256e69"
            }
          },
          "metadata": {}
        },
        {
          "output_type": "stream",
          "name": "stdout",
          "text": [
            "--- Process ended: 1.3020344932874044 minutes ---\n"
          ]
        }
      ],
      "source": [
        "file_sentences_test = open('/content/drive/MyDrive/ba-thesis/data-pre-processing/data_final/data_sentences_validation_1p.csv', 'w', encoding=\"utf-8\")\n",
        "file_fulldocs_test = open('/content/drive/MyDrive/ba-thesis/data-pre-processing/data_final/data_fulldocs_validation_1p.csv', 'w', encoding=\"utf-8\")\n",
        "\n",
        "for json_doc_test in tqdm(json_test):\n",
        "    \n",
        "    dict_test = json.loads(json_doc_test)\n",
        "    content_test = html2text(dict_test['content'])\n",
        "    content_test = content_test.strip()\n",
        "    content_test = content_test.replace('\\n', ' ')\n",
        "    content_test = content_test.replace(\"## Tenor  \", \"\")\n",
        "    content_test = re.sub(' +', ' ', content_test)\n",
        "\n",
        "    if content_test != '' and not content_test.isspace():\n",
        "        file_fulldocs_test.write(str(id) + '_adelimiter528_' + content_test + '_adelimiter528_' + '\\n')\n",
        "        \n",
        "        # Split text into sentences\n",
        "        doc = nlp(content_test)\n",
        "        split_sentences = list(doc.sents)\n",
        "\n",
        "        for sent in split_sentences:\n",
        "            file_sentences_test.write(str(id) + '_adelimiter528_' + str(sent) + '_adelimiter528_' + '\\n')\n",
        "    \n",
        "    id += 1\n",
        "\n",
        "    if id % 50000 == 0:\n",
        "        print(\"--- Intermediate time check: %s minutes ---\" % ( (time.time() - start_time) / 60 ))\n",
        "\n",
        "file_sentences_test.close()\n",
        "file_fulldocs_test.close()\n",
        "\n",
        "print(\"--- Process ended: %s minutes ---\" % ( (time.time() - start_time) / 60 ))"
      ]
    },
    {
      "cell_type": "markdown",
      "metadata": {
        "id": "LUlxVvHBuJIe"
      },
      "source": [
        "2.2 Train Set"
      ]
    },
    {
      "cell_type": "code",
      "execution_count": null,
      "metadata": {
        "colab": {
          "base_uri": "https://localhost:8080/",
          "height": 67,
          "referenced_widgets": [
            "0dd75926d7c84153937e807ca7f7bea7",
            "e3820bdb00554904913a6ea0ce6a8ffe",
            "d899fdc78ee04f5998bb2a40da14a9ca",
            "6c73efa8c54f445a9a87a440399d5b32",
            "ddaddc632222447c9696298e9f0b18b6",
            "9ba570fa3053491e813d731be1c9a6c6",
            "bf7442ebdf0c40419b2e7f3e3f31fd4d",
            "0cfbacd5b33b4707a6b783894a42e4c4",
            "8d2560255b5b4002a41ca5e1967923e8",
            "38a7a33efb1a4742a9885f41ce75aa7c",
            "672186957dfc49248cd2e4c3c009539e"
          ]
        },
        "id": "HCOfjLKa2_G5",
        "outputId": "00bac9d6-b465-4766-949f-e67d66118211"
      },
      "outputs": [
        {
          "output_type": "display_data",
          "data": {
            "text/plain": [
              "  0%|          | 0/2072 [00:00<?, ?it/s]"
            ],
            "application/vnd.jupyter.widget-view+json": {
              "version_major": 2,
              "version_minor": 0,
              "model_id": "0dd75926d7c84153937e807ca7f7bea7"
            }
          },
          "metadata": {}
        },
        {
          "output_type": "stream",
          "name": "stdout",
          "text": [
            "--- Process ended: 2.4488534847895305 minutes ---\n"
          ]
        }
      ],
      "source": [
        "file_sentences_train = open('/content/drive/MyDrive/ba-thesis/data-pre-processing/data_final/data_sentences_train_1p.csv', 'w', encoding=\"utf-8\")\n",
        "file_fulldocs_train = open('/content/drive/MyDrive/ba-thesis/data-pre-processing/data_final/data_fulldocs_train_1p.csv', 'w', encoding=\"utf-8\")\n",
        "\n",
        "id = 0\n",
        "for json_doc_train in tqdm(json_train):\n",
        "    \n",
        "    dict_train = json.loads(json_doc_train)\n",
        "    content_train = html2text(dict_train['content'])\n",
        "    content_train = content_train.strip()\n",
        "    content_train = content_train.replace('\\n', ' ')\n",
        "    content_train = content_train.replace(\"## Tenor  \", \"\")\n",
        "    content_train = re.sub(' +', ' ', content_train)\n",
        "        \n",
        "    # Save only strings that are not blank\n",
        "    if content_train != '' and not content_train.isspace():\n",
        "        file_fulldocs_train.write(str(id) + '_adelimiter528_' + content_train + '_adelimiter528_' + '\\n')\n",
        "\n",
        "        # Split text into sentences\n",
        "        doc = nlp(content_train)\n",
        "        split_sentences = list(doc.sents)\n",
        "\n",
        "        for sent in split_sentences:\n",
        "            file_sentences_train.write(str(id) + '_adelimiter528_' + str(sent) + '_adelimiter528_' + '\\n')\n",
        "    \n",
        "    id += 1\n",
        "\n",
        "    if id % 5000 == 0:\n",
        "        print(\"--- Intermediate time check: %s minutes ---\" % ( (time.time() - start_time) / 60 ))\n",
        "\n",
        "file_sentences_train.close()\n",
        "file_fulldocs_train.close()\n",
        "\n",
        "print(\"--- Process ended: %s minutes ---\" % ( (time.time() - start_time) / 60 ))"
      ]
    },
    {
      "cell_type": "markdown",
      "source": [
        "Sending an email Notification:"
      ],
      "metadata": {
        "id": "JRX_H48I5o-C"
      }
    },
    {
      "cell_type": "code",
      "execution_count": null,
      "metadata": {
        "colab": {
          "background_save": true
        },
        "id": "eeYoPt9aEZ3E",
        "outputId": "983aa8f6-885f-4734-9375-97a97ea6bde1"
      },
      "outputs": [
        {
          "data": {
            "text/plain": [
              "(221,\n",
              " b'2.0.0 closing connection f22-20020a056638113600b00349bb70ab9fsm1442574jar.152 - gsmtp')"
            ]
          },
          "execution_count": 67,
          "metadata": {},
          "output_type": "execute_result"
        }
      ],
      "source": [
        "# import smtplib\n",
        "\n",
        "# server = smtplib.SMTP('smtp.gmail.com', 587)\n",
        "# server.starttls()\n",
        "# server.login(\"email_adress\", \"password\")\n",
        "\n",
        "# msg = \"The model is pushed to the hub.\"\n",
        "# server.sendmail(\"email_adress\", msg)\n",
        "# server.quit()"
      ]
    }
  ],
  "metadata": {
    "accelerator": "GPU",
    "colab": {
      "background_execution": "on",
      "collapsed_sections": [
        "6zAwoFAB4A8s"
      ],
      "machine_shape": "hm",
      "provenance": []
    },
    "gpuClass": "standard",
    "kernelspec": {
      "display_name": "Python 3",
      "name": "python3"
    },
    "language_info": {
      "name": "python"
    },
    "widgets": {
      "application/vnd.jupyter.widget-state+json": {
        "34bfd967106e440aa46ed78388256e69": {
          "model_module": "@jupyter-widgets/controls",
          "model_name": "HBoxModel",
          "model_module_version": "1.5.0",
          "state": {
            "_dom_classes": [],
            "_model_module": "@jupyter-widgets/controls",
            "_model_module_version": "1.5.0",
            "_model_name": "HBoxModel",
            "_view_count": null,
            "_view_module": "@jupyter-widgets/controls",
            "_view_module_version": "1.5.0",
            "_view_name": "HBoxView",
            "box_style": "",
            "children": [
              "IPY_MODEL_86bea6d3bb6445b69659b8a00805fad3",
              "IPY_MODEL_6df0c0f30bcc4f84a19a0e246bdf345d",
              "IPY_MODEL_5323aaa79d25476f86ad7fe917356677"
            ],
            "layout": "IPY_MODEL_366ec369578e4ad3a55ccaff7c7cf565"
          }
        },
        "86bea6d3bb6445b69659b8a00805fad3": {
          "model_module": "@jupyter-widgets/controls",
          "model_name": "HTMLModel",
          "model_module_version": "1.5.0",
          "state": {
            "_dom_classes": [],
            "_model_module": "@jupyter-widgets/controls",
            "_model_module_version": "1.5.0",
            "_model_name": "HTMLModel",
            "_view_count": null,
            "_view_module": "@jupyter-widgets/controls",
            "_view_module_version": "1.5.0",
            "_view_name": "HTMLView",
            "description": "",
            "description_tooltip": null,
            "layout": "IPY_MODEL_9149cac294894145adb4706cb3d383f2",
            "placeholder": "​",
            "style": "IPY_MODEL_260b662b0a1441b287cedb16102d6992",
            "value": "100%"
          }
        },
        "6df0c0f30bcc4f84a19a0e246bdf345d": {
          "model_module": "@jupyter-widgets/controls",
          "model_name": "FloatProgressModel",
          "model_module_version": "1.5.0",
          "state": {
            "_dom_classes": [],
            "_model_module": "@jupyter-widgets/controls",
            "_model_module_version": "1.5.0",
            "_model_name": "FloatProgressModel",
            "_view_count": null,
            "_view_module": "@jupyter-widgets/controls",
            "_view_module_version": "1.5.0",
            "_view_name": "ProgressView",
            "bar_style": "success",
            "description": "",
            "description_tooltip": null,
            "layout": "IPY_MODEL_60edd006b343437c81bde5250264bdac",
            "max": 518,
            "min": 0,
            "orientation": "horizontal",
            "style": "IPY_MODEL_cff95efade714c81b7e6b71bae1b0332",
            "value": 518
          }
        },
        "5323aaa79d25476f86ad7fe917356677": {
          "model_module": "@jupyter-widgets/controls",
          "model_name": "HTMLModel",
          "model_module_version": "1.5.0",
          "state": {
            "_dom_classes": [],
            "_model_module": "@jupyter-widgets/controls",
            "_model_module_version": "1.5.0",
            "_model_name": "HTMLModel",
            "_view_count": null,
            "_view_module": "@jupyter-widgets/controls",
            "_view_module_version": "1.5.0",
            "_view_name": "HTMLView",
            "description": "",
            "description_tooltip": null,
            "layout": "IPY_MODEL_0939ced048ae485d9137aa33d841aa37",
            "placeholder": "​",
            "style": "IPY_MODEL_3b3a435fa34042a8a10aded8fcda86be",
            "value": " 518/518 [00:23&lt;00:00, 11.94it/s]"
          }
        },
        "366ec369578e4ad3a55ccaff7c7cf565": {
          "model_module": "@jupyter-widgets/base",
          "model_name": "LayoutModel",
          "model_module_version": "1.2.0",
          "state": {
            "_model_module": "@jupyter-widgets/base",
            "_model_module_version": "1.2.0",
            "_model_name": "LayoutModel",
            "_view_count": null,
            "_view_module": "@jupyter-widgets/base",
            "_view_module_version": "1.2.0",
            "_view_name": "LayoutView",
            "align_content": null,
            "align_items": null,
            "align_self": null,
            "border": null,
            "bottom": null,
            "display": null,
            "flex": null,
            "flex_flow": null,
            "grid_area": null,
            "grid_auto_columns": null,
            "grid_auto_flow": null,
            "grid_auto_rows": null,
            "grid_column": null,
            "grid_gap": null,
            "grid_row": null,
            "grid_template_areas": null,
            "grid_template_columns": null,
            "grid_template_rows": null,
            "height": null,
            "justify_content": null,
            "justify_items": null,
            "left": null,
            "margin": null,
            "max_height": null,
            "max_width": null,
            "min_height": null,
            "min_width": null,
            "object_fit": null,
            "object_position": null,
            "order": null,
            "overflow": null,
            "overflow_x": null,
            "overflow_y": null,
            "padding": null,
            "right": null,
            "top": null,
            "visibility": null,
            "width": null
          }
        },
        "9149cac294894145adb4706cb3d383f2": {
          "model_module": "@jupyter-widgets/base",
          "model_name": "LayoutModel",
          "model_module_version": "1.2.0",
          "state": {
            "_model_module": "@jupyter-widgets/base",
            "_model_module_version": "1.2.0",
            "_model_name": "LayoutModel",
            "_view_count": null,
            "_view_module": "@jupyter-widgets/base",
            "_view_module_version": "1.2.0",
            "_view_name": "LayoutView",
            "align_content": null,
            "align_items": null,
            "align_self": null,
            "border": null,
            "bottom": null,
            "display": null,
            "flex": null,
            "flex_flow": null,
            "grid_area": null,
            "grid_auto_columns": null,
            "grid_auto_flow": null,
            "grid_auto_rows": null,
            "grid_column": null,
            "grid_gap": null,
            "grid_row": null,
            "grid_template_areas": null,
            "grid_template_columns": null,
            "grid_template_rows": null,
            "height": null,
            "justify_content": null,
            "justify_items": null,
            "left": null,
            "margin": null,
            "max_height": null,
            "max_width": null,
            "min_height": null,
            "min_width": null,
            "object_fit": null,
            "object_position": null,
            "order": null,
            "overflow": null,
            "overflow_x": null,
            "overflow_y": null,
            "padding": null,
            "right": null,
            "top": null,
            "visibility": null,
            "width": null
          }
        },
        "260b662b0a1441b287cedb16102d6992": {
          "model_module": "@jupyter-widgets/controls",
          "model_name": "DescriptionStyleModel",
          "model_module_version": "1.5.0",
          "state": {
            "_model_module": "@jupyter-widgets/controls",
            "_model_module_version": "1.5.0",
            "_model_name": "DescriptionStyleModel",
            "_view_count": null,
            "_view_module": "@jupyter-widgets/base",
            "_view_module_version": "1.2.0",
            "_view_name": "StyleView",
            "description_width": ""
          }
        },
        "60edd006b343437c81bde5250264bdac": {
          "model_module": "@jupyter-widgets/base",
          "model_name": "LayoutModel",
          "model_module_version": "1.2.0",
          "state": {
            "_model_module": "@jupyter-widgets/base",
            "_model_module_version": "1.2.0",
            "_model_name": "LayoutModel",
            "_view_count": null,
            "_view_module": "@jupyter-widgets/base",
            "_view_module_version": "1.2.0",
            "_view_name": "LayoutView",
            "align_content": null,
            "align_items": null,
            "align_self": null,
            "border": null,
            "bottom": null,
            "display": null,
            "flex": null,
            "flex_flow": null,
            "grid_area": null,
            "grid_auto_columns": null,
            "grid_auto_flow": null,
            "grid_auto_rows": null,
            "grid_column": null,
            "grid_gap": null,
            "grid_row": null,
            "grid_template_areas": null,
            "grid_template_columns": null,
            "grid_template_rows": null,
            "height": null,
            "justify_content": null,
            "justify_items": null,
            "left": null,
            "margin": null,
            "max_height": null,
            "max_width": null,
            "min_height": null,
            "min_width": null,
            "object_fit": null,
            "object_position": null,
            "order": null,
            "overflow": null,
            "overflow_x": null,
            "overflow_y": null,
            "padding": null,
            "right": null,
            "top": null,
            "visibility": null,
            "width": null
          }
        },
        "cff95efade714c81b7e6b71bae1b0332": {
          "model_module": "@jupyter-widgets/controls",
          "model_name": "ProgressStyleModel",
          "model_module_version": "1.5.0",
          "state": {
            "_model_module": "@jupyter-widgets/controls",
            "_model_module_version": "1.5.0",
            "_model_name": "ProgressStyleModel",
            "_view_count": null,
            "_view_module": "@jupyter-widgets/base",
            "_view_module_version": "1.2.0",
            "_view_name": "StyleView",
            "bar_color": null,
            "description_width": ""
          }
        },
        "0939ced048ae485d9137aa33d841aa37": {
          "model_module": "@jupyter-widgets/base",
          "model_name": "LayoutModel",
          "model_module_version": "1.2.0",
          "state": {
            "_model_module": "@jupyter-widgets/base",
            "_model_module_version": "1.2.0",
            "_model_name": "LayoutModel",
            "_view_count": null,
            "_view_module": "@jupyter-widgets/base",
            "_view_module_version": "1.2.0",
            "_view_name": "LayoutView",
            "align_content": null,
            "align_items": null,
            "align_self": null,
            "border": null,
            "bottom": null,
            "display": null,
            "flex": null,
            "flex_flow": null,
            "grid_area": null,
            "grid_auto_columns": null,
            "grid_auto_flow": null,
            "grid_auto_rows": null,
            "grid_column": null,
            "grid_gap": null,
            "grid_row": null,
            "grid_template_areas": null,
            "grid_template_columns": null,
            "grid_template_rows": null,
            "height": null,
            "justify_content": null,
            "justify_items": null,
            "left": null,
            "margin": null,
            "max_height": null,
            "max_width": null,
            "min_height": null,
            "min_width": null,
            "object_fit": null,
            "object_position": null,
            "order": null,
            "overflow": null,
            "overflow_x": null,
            "overflow_y": null,
            "padding": null,
            "right": null,
            "top": null,
            "visibility": null,
            "width": null
          }
        },
        "3b3a435fa34042a8a10aded8fcda86be": {
          "model_module": "@jupyter-widgets/controls",
          "model_name": "DescriptionStyleModel",
          "model_module_version": "1.5.0",
          "state": {
            "_model_module": "@jupyter-widgets/controls",
            "_model_module_version": "1.5.0",
            "_model_name": "DescriptionStyleModel",
            "_view_count": null,
            "_view_module": "@jupyter-widgets/base",
            "_view_module_version": "1.2.0",
            "_view_name": "StyleView",
            "description_width": ""
          }
        },
        "0dd75926d7c84153937e807ca7f7bea7": {
          "model_module": "@jupyter-widgets/controls",
          "model_name": "HBoxModel",
          "model_module_version": "1.5.0",
          "state": {
            "_dom_classes": [],
            "_model_module": "@jupyter-widgets/controls",
            "_model_module_version": "1.5.0",
            "_model_name": "HBoxModel",
            "_view_count": null,
            "_view_module": "@jupyter-widgets/controls",
            "_view_module_version": "1.5.0",
            "_view_name": "HBoxView",
            "box_style": "",
            "children": [
              "IPY_MODEL_e3820bdb00554904913a6ea0ce6a8ffe",
              "IPY_MODEL_d899fdc78ee04f5998bb2a40da14a9ca",
              "IPY_MODEL_6c73efa8c54f445a9a87a440399d5b32"
            ],
            "layout": "IPY_MODEL_ddaddc632222447c9696298e9f0b18b6"
          }
        },
        "e3820bdb00554904913a6ea0ce6a8ffe": {
          "model_module": "@jupyter-widgets/controls",
          "model_name": "HTMLModel",
          "model_module_version": "1.5.0",
          "state": {
            "_dom_classes": [],
            "_model_module": "@jupyter-widgets/controls",
            "_model_module_version": "1.5.0",
            "_model_name": "HTMLModel",
            "_view_count": null,
            "_view_module": "@jupyter-widgets/controls",
            "_view_module_version": "1.5.0",
            "_view_name": "HTMLView",
            "description": "",
            "description_tooltip": null,
            "layout": "IPY_MODEL_9ba570fa3053491e813d731be1c9a6c6",
            "placeholder": "​",
            "style": "IPY_MODEL_bf7442ebdf0c40419b2e7f3e3f31fd4d",
            "value": "100%"
          }
        },
        "d899fdc78ee04f5998bb2a40da14a9ca": {
          "model_module": "@jupyter-widgets/controls",
          "model_name": "FloatProgressModel",
          "model_module_version": "1.5.0",
          "state": {
            "_dom_classes": [],
            "_model_module": "@jupyter-widgets/controls",
            "_model_module_version": "1.5.0",
            "_model_name": "FloatProgressModel",
            "_view_count": null,
            "_view_module": "@jupyter-widgets/controls",
            "_view_module_version": "1.5.0",
            "_view_name": "ProgressView",
            "bar_style": "success",
            "description": "",
            "description_tooltip": null,
            "layout": "IPY_MODEL_0cfbacd5b33b4707a6b783894a42e4c4",
            "max": 2072,
            "min": 0,
            "orientation": "horizontal",
            "style": "IPY_MODEL_8d2560255b5b4002a41ca5e1967923e8",
            "value": 2072
          }
        },
        "6c73efa8c54f445a9a87a440399d5b32": {
          "model_module": "@jupyter-widgets/controls",
          "model_name": "HTMLModel",
          "model_module_version": "1.5.0",
          "state": {
            "_dom_classes": [],
            "_model_module": "@jupyter-widgets/controls",
            "_model_module_version": "1.5.0",
            "_model_name": "HTMLModel",
            "_view_count": null,
            "_view_module": "@jupyter-widgets/controls",
            "_view_module_version": "1.5.0",
            "_view_name": "HTMLView",
            "description": "",
            "description_tooltip": null,
            "layout": "IPY_MODEL_38a7a33efb1a4742a9885f41ce75aa7c",
            "placeholder": "​",
            "style": "IPY_MODEL_672186957dfc49248cd2e4c3c009539e",
            "value": " 2072/2072 [01:08&lt;00:00, 40.09it/s]"
          }
        },
        "ddaddc632222447c9696298e9f0b18b6": {
          "model_module": "@jupyter-widgets/base",
          "model_name": "LayoutModel",
          "model_module_version": "1.2.0",
          "state": {
            "_model_module": "@jupyter-widgets/base",
            "_model_module_version": "1.2.0",
            "_model_name": "LayoutModel",
            "_view_count": null,
            "_view_module": "@jupyter-widgets/base",
            "_view_module_version": "1.2.0",
            "_view_name": "LayoutView",
            "align_content": null,
            "align_items": null,
            "align_self": null,
            "border": null,
            "bottom": null,
            "display": null,
            "flex": null,
            "flex_flow": null,
            "grid_area": null,
            "grid_auto_columns": null,
            "grid_auto_flow": null,
            "grid_auto_rows": null,
            "grid_column": null,
            "grid_gap": null,
            "grid_row": null,
            "grid_template_areas": null,
            "grid_template_columns": null,
            "grid_template_rows": null,
            "height": null,
            "justify_content": null,
            "justify_items": null,
            "left": null,
            "margin": null,
            "max_height": null,
            "max_width": null,
            "min_height": null,
            "min_width": null,
            "object_fit": null,
            "object_position": null,
            "order": null,
            "overflow": null,
            "overflow_x": null,
            "overflow_y": null,
            "padding": null,
            "right": null,
            "top": null,
            "visibility": null,
            "width": null
          }
        },
        "9ba570fa3053491e813d731be1c9a6c6": {
          "model_module": "@jupyter-widgets/base",
          "model_name": "LayoutModel",
          "model_module_version": "1.2.0",
          "state": {
            "_model_module": "@jupyter-widgets/base",
            "_model_module_version": "1.2.0",
            "_model_name": "LayoutModel",
            "_view_count": null,
            "_view_module": "@jupyter-widgets/base",
            "_view_module_version": "1.2.0",
            "_view_name": "LayoutView",
            "align_content": null,
            "align_items": null,
            "align_self": null,
            "border": null,
            "bottom": null,
            "display": null,
            "flex": null,
            "flex_flow": null,
            "grid_area": null,
            "grid_auto_columns": null,
            "grid_auto_flow": null,
            "grid_auto_rows": null,
            "grid_column": null,
            "grid_gap": null,
            "grid_row": null,
            "grid_template_areas": null,
            "grid_template_columns": null,
            "grid_template_rows": null,
            "height": null,
            "justify_content": null,
            "justify_items": null,
            "left": null,
            "margin": null,
            "max_height": null,
            "max_width": null,
            "min_height": null,
            "min_width": null,
            "object_fit": null,
            "object_position": null,
            "order": null,
            "overflow": null,
            "overflow_x": null,
            "overflow_y": null,
            "padding": null,
            "right": null,
            "top": null,
            "visibility": null,
            "width": null
          }
        },
        "bf7442ebdf0c40419b2e7f3e3f31fd4d": {
          "model_module": "@jupyter-widgets/controls",
          "model_name": "DescriptionStyleModel",
          "model_module_version": "1.5.0",
          "state": {
            "_model_module": "@jupyter-widgets/controls",
            "_model_module_version": "1.5.0",
            "_model_name": "DescriptionStyleModel",
            "_view_count": null,
            "_view_module": "@jupyter-widgets/base",
            "_view_module_version": "1.2.0",
            "_view_name": "StyleView",
            "description_width": ""
          }
        },
        "0cfbacd5b33b4707a6b783894a42e4c4": {
          "model_module": "@jupyter-widgets/base",
          "model_name": "LayoutModel",
          "model_module_version": "1.2.0",
          "state": {
            "_model_module": "@jupyter-widgets/base",
            "_model_module_version": "1.2.0",
            "_model_name": "LayoutModel",
            "_view_count": null,
            "_view_module": "@jupyter-widgets/base",
            "_view_module_version": "1.2.0",
            "_view_name": "LayoutView",
            "align_content": null,
            "align_items": null,
            "align_self": null,
            "border": null,
            "bottom": null,
            "display": null,
            "flex": null,
            "flex_flow": null,
            "grid_area": null,
            "grid_auto_columns": null,
            "grid_auto_flow": null,
            "grid_auto_rows": null,
            "grid_column": null,
            "grid_gap": null,
            "grid_row": null,
            "grid_template_areas": null,
            "grid_template_columns": null,
            "grid_template_rows": null,
            "height": null,
            "justify_content": null,
            "justify_items": null,
            "left": null,
            "margin": null,
            "max_height": null,
            "max_width": null,
            "min_height": null,
            "min_width": null,
            "object_fit": null,
            "object_position": null,
            "order": null,
            "overflow": null,
            "overflow_x": null,
            "overflow_y": null,
            "padding": null,
            "right": null,
            "top": null,
            "visibility": null,
            "width": null
          }
        },
        "8d2560255b5b4002a41ca5e1967923e8": {
          "model_module": "@jupyter-widgets/controls",
          "model_name": "ProgressStyleModel",
          "model_module_version": "1.5.0",
          "state": {
            "_model_module": "@jupyter-widgets/controls",
            "_model_module_version": "1.5.0",
            "_model_name": "ProgressStyleModel",
            "_view_count": null,
            "_view_module": "@jupyter-widgets/base",
            "_view_module_version": "1.2.0",
            "_view_name": "StyleView",
            "bar_color": null,
            "description_width": ""
          }
        },
        "38a7a33efb1a4742a9885f41ce75aa7c": {
          "model_module": "@jupyter-widgets/base",
          "model_name": "LayoutModel",
          "model_module_version": "1.2.0",
          "state": {
            "_model_module": "@jupyter-widgets/base",
            "_model_module_version": "1.2.0",
            "_model_name": "LayoutModel",
            "_view_count": null,
            "_view_module": "@jupyter-widgets/base",
            "_view_module_version": "1.2.0",
            "_view_name": "LayoutView",
            "align_content": null,
            "align_items": null,
            "align_self": null,
            "border": null,
            "bottom": null,
            "display": null,
            "flex": null,
            "flex_flow": null,
            "grid_area": null,
            "grid_auto_columns": null,
            "grid_auto_flow": null,
            "grid_auto_rows": null,
            "grid_column": null,
            "grid_gap": null,
            "grid_row": null,
            "grid_template_areas": null,
            "grid_template_columns": null,
            "grid_template_rows": null,
            "height": null,
            "justify_content": null,
            "justify_items": null,
            "left": null,
            "margin": null,
            "max_height": null,
            "max_width": null,
            "min_height": null,
            "min_width": null,
            "object_fit": null,
            "object_position": null,
            "order": null,
            "overflow": null,
            "overflow_x": null,
            "overflow_y": null,
            "padding": null,
            "right": null,
            "top": null,
            "visibility": null,
            "width": null
          }
        },
        "672186957dfc49248cd2e4c3c009539e": {
          "model_module": "@jupyter-widgets/controls",
          "model_name": "DescriptionStyleModel",
          "model_module_version": "1.5.0",
          "state": {
            "_model_module": "@jupyter-widgets/controls",
            "_model_module_version": "1.5.0",
            "_model_name": "DescriptionStyleModel",
            "_view_count": null,
            "_view_module": "@jupyter-widgets/base",
            "_view_module_version": "1.2.0",
            "_view_name": "StyleView",
            "description_width": ""
          }
        }
      }
    }
  },
  "nbformat": 4,
  "nbformat_minor": 0
}